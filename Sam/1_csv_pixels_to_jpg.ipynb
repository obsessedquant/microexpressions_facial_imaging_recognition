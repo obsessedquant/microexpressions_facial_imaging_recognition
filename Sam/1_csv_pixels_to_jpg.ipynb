{
 "cells": [
  {
   "cell_type": "markdown",
   "id": "4471e48a",
   "metadata": {},
   "source": [
    "# Convert pixels to image files\n",
    "\n",
    "This notebook is meant to convert pixel csv files to images for the purposes of data generation."
   ]
  },
  {
   "cell_type": "code",
   "execution_count": 5,
   "id": "82c5ff42",
   "metadata": {},
   "outputs": [],
   "source": [
    "import pandas as pd\n",
    "\n",
    "df = pd.read_csv('../Sergey/Data/fer2013.csv')\n",
    "df2 = df[(df['emotion']==5)] # modify this\n",
    "df3 = df2.drop(['emotion','Usage'],axis=1)\n",
    "df4 = df3['pixels'].str.split(' ', expand=True)\n",
    "im_l = df4.to_numpy()"
   ]
  },
  {
   "cell_type": "code",
   "execution_count": 6,
   "id": "073ec739",
   "metadata": {},
   "outputs": [],
   "source": [
    "import numpy as np\n",
    "import PIL\n",
    "import matplotlib.pyplot as plt\n",
    "\n",
    "for x in range(len(im_l)):\n",
    "    # load the data\n",
    "    # im_l = np.genfromtxt('./Data/sample_data_ten.csv', delimiter=',')\n",
    "    # reshape the data\n",
    "    # img = np.reshape(im_l, (256,256,3)) # change 256's according to your data\n",
    "    img = np.reshape(im_l[x], (48,48)) # change 256's according to your data\n",
    "\n",
    "    # visualize the data\n",
    "#     plt.figure\n",
    "#     plt.imshow(img)\n",
    "\n",
    "    # finally save the image as jpg file\n",
    "    # image = PIL.Image.fromarray(img.astype('uint8'), 'RGB')\n",
    "    image = PIL.Image.fromarray(img.astype('uint8'))\n",
    "    image.save(f'../../0_data_dump/face_off/Images/5_Surprise/surprise{x}.jpg') # modify this"
   ]
  }
 ],
 "metadata": {
  "kernelspec": {
   "display_name": "Python [conda env:PythonData]",
   "language": "python",
   "name": "conda-env-PythonData-py"
  },
  "language_info": {
   "codemirror_mode": {
    "name": "ipython",
    "version": 3
   },
   "file_extension": ".py",
   "mimetype": "text/x-python",
   "name": "python",
   "nbconvert_exporter": "python",
   "pygments_lexer": "ipython3",
   "version": "3.6.13"
  }
 },
 "nbformat": 4,
 "nbformat_minor": 5
}
