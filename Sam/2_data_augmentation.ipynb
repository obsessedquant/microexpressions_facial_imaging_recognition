{
 "cells": [
  {
   "cell_type": "markdown",
   "id": "13145250",
   "metadata": {},
   "source": [
    "# Data Augmentation"
   ]
  },
  {
   "cell_type": "code",
   "execution_count": 8,
   "id": "d2560062",
   "metadata": {},
   "outputs": [],
   "source": [
    "# !pip install scikit-image --user"
   ]
  },
  {
   "cell_type": "markdown",
   "id": "b3eabc82",
   "metadata": {},
   "source": [
    "#### Code to process 1 image at a time"
   ]
  },
  {
   "cell_type": "code",
   "execution_count": 7,
   "id": "18e604e6",
   "metadata": {},
   "outputs": [],
   "source": [
    "from keras.preprocessing.image import ImageDataGenerator\n",
    "from skimage import io\n",
    "\n",
    "# for Generative Adversarial Networks, fill_mode='reflect' works best\n",
    "datagen = ImageDataGenerator(\n",
    "    rotation_range=45,\n",
    "    width_shift_range=0.2,\n",
    "    height_shift_range=0.2,\n",
    "    shear_range=0.2,\n",
    "    zoom_range=0.2,\n",
    "    horizontal_flip=True,\n",
    "    fill_mode='constant')\n",
    "\n",
    "x = io.imread('./Resources/happy.png')\n",
    "\n",
    "x = x.reshape((1, ) + x.shape)\n",
    "\n",
    "i = 0\n",
    "for batch in datagen.flow(x, batch_size=16,\n",
    "                         save_to_dir='./Outputs/2_Fear_Augmented',\n",
    "                         save_prefix='aug',\n",
    "                         save_format='jpg'):\n",
    "    i += 1\n",
    "    if i > 20:\n",
    "        break"
   ]
  },
  {
   "cell_type": "markdown",
   "id": "5c2d7a79",
   "metadata": {},
   "source": [
    "#### Code for augmenting multiple images in a directory"
   ]
  },
  {
   "cell_type": "code",
   "execution_count": 4,
   "id": "46dc2f91",
   "metadata": {},
   "outputs": [],
   "source": [
    "from keras.preprocessing.image import ImageDataGenerator\n",
    "from skimage import io\n",
    "\n",
    "datagen = ImageDataGenerator(\n",
    "    rotation_range=45,\n",
    "    width_shift_range=0.2,\n",
    "    height_shift_range=0.2,\n",
    "    shear_range=0.2,\n",
    "    zoom_range=0.2,\n",
    "    horizontal_flip=True,\n",
    "    fill_mode='reflect')\n",
    "\n",
    "dataset = []\n",
    "\n",
    "import numpy as np\n",
    "import os\n",
    "from PIL import Image\n",
    "\n",
    "image_directory = '../../0_data_dump/face_off/Images/5_Surprise/' # change this\n",
    "SIZE = 48 # resizing the images so that they are all the same size\n",
    "dataset = []\n",
    "\n",
    "my_images = os.listdir(image_directory)\n",
    "for i, image_name in enumerate(my_images):\n",
    "    if (image_name.split('.')[1] == 'jpg'): # may need to change this to .jpg\n",
    "        image = io.imread(image_directory + image_name)\n",
    "#         image = Image.fromarray(image, 'RGB')\n",
    "        image = Image.fromarray(image)\n",
    "#         image = Image.fromarray(image)\n",
    "        image = image.resize((SIZE,SIZE))\n",
    "        dataset.append(np.array(image))\n",
    "        \n",
    "x = np.array(dataset)\n",
    "x2 = np.expand_dims(x, axis=3) # this code is needed for grayscale (non-RGB images), RGB images have a this axis 3 dimension set to the number 3\n",
    "\n",
    "# To target the number of images generated, multiply the batch_size by the iter_count, e.g. if you need 1,000 images, you can choose a batch size of 16 and iter_count of 63\n",
    "iter_count = 125 # Modify this\n",
    "i = 0\n",
    "for batch in datagen.flow(x2, batch_size=16,\n",
    "                         save_to_dir='../../0_data_dump/face_off/Images/5_Surprise_Augmented', # modify this\n",
    "                         save_prefix='aug',\n",
    "                         save_format='png'):\n",
    "    i += 1\n",
    "    if i > iter_count:\n",
    "        break"
   ]
  },
  {
   "cell_type": "markdown",
   "id": "d9c431e9",
   "metadata": {},
   "source": [
    "#### Multi-Class problem\n",
    "\n",
    "Different images are stored in different sub-folders to separate the classes."
   ]
  },
  {
   "cell_type": "code",
   "execution_count": 25,
   "id": "6b37d9f4",
   "metadata": {},
   "outputs": [
    {
     "name": "stdout",
     "output_type": "stream",
     "text": [
      "Found 2 images belonging to 2 classes.\n"
     ]
    }
   ],
   "source": [
    "from keras.preprocessing.image import ImageDataGenerator\n",
    "from skimage import io\n",
    "\n",
    "# for Generative Adversarial Networks, fill_mode='reflect' works best\n",
    "datagen = ImageDataGenerator(\n",
    "    rotation_range=45,\n",
    "    width_shift_range=0.2,\n",
    "    height_shift_range=0.2,\n",
    "    shear_range=0.2,\n",
    "    zoom_range=0.2,\n",
    "    horizontal_flip=True,\n",
    "    fill_mode='reflect')\n",
    "\n",
    "i = 0\n",
    "for batch in datagen.flow_from_directory(directory='./Resources/Multi-Class',\n",
    "                                         batch_size=16,\n",
    "                                         target_size=(256,256),\n",
    "                                         color_mode='rgb',\n",
    "                                         save_to_dir='./Resources/Augmented',\n",
    "                                         save_prefix='aug',\n",
    "                                         save_format='png'):\n",
    "    i += 1\n",
    "    if i > 31:\n",
    "        break"
   ]
  }
 ],
 "metadata": {
  "kernelspec": {
   "display_name": "Python [conda env:PythonAdv]",
   "language": "python",
   "name": "conda-env-PythonAdv-py"
  },
  "language_info": {
   "codemirror_mode": {
    "name": "ipython",
    "version": 3
   },
   "file_extension": ".py",
   "mimetype": "text/x-python",
   "name": "python",
   "nbconvert_exporter": "python",
   "pygments_lexer": "ipython3",
   "version": "3.6.13"
  }
 },
 "nbformat": 4,
 "nbformat_minor": 5
}
