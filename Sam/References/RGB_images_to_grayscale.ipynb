{
 "cells": [
  {
   "cell_type": "markdown",
   "id": "6a124401",
   "metadata": {},
   "source": [
    "# RGB Images to Grayscale\n",
    "\n",
    "This notebook is meant to convert RGB images to grayscale."
   ]
  },
  {
   "cell_type": "code",
   "execution_count": 12,
   "id": "655ef761",
   "metadata": {},
   "outputs": [
    {
     "name": "stdout",
     "output_type": "stream",
     "text": [
      "Shape of original is: (620, 1024, 3)\n",
      "Shape of grayscale is: (620, 1024)\n"
     ]
    }
   ],
   "source": [
    "import cv2\n",
    "\n",
    "# Import image\n",
    "image_name = 'how-to-be-happy'\n",
    "directory = f\"./Inputs/{image_name}.jpg\"\n",
    "image = cv2.imread(directory)\n",
    "\n",
    "# Open window to show original image\n",
    "# cv2.imshow('Original',image)\n",
    "# cv2.waitKey()\n",
    "\n",
    "# Create the grayscale image and save file\n",
    "gray_img = cv2.cvtColor(image, cv2.COLOR_BGR2GRAY)\n",
    "cv2.imwrite(f'./Inputs/{image_name}_new.png', gray_img)\n",
    "\n",
    "# Open window to show grayscale image\n",
    "# cv2.imshow(\"new image grayscale\", gray_img)\n",
    "# cv2.waitKey(0)\n",
    "\n",
    "# Close windows\n",
    "# cv2.destroyAllWindows()\n",
    "\n",
    "print(f\"Shape of original is: {image.shape}\")\n",
    "print(f\"Shape of grayscale is: {gray_img.shape}\")"
   ]
  },
  {
   "cell_type": "code",
   "execution_count": 15,
   "id": "345d9a5e",
   "metadata": {},
   "outputs": [
    {
     "name": "stdout",
     "output_type": "stream",
     "text": [
      "Head of './Inputs/how-to-be-happy.jpg:' ./Inputs\n",
      "Tail of './Inputs/how-to-be-happy.jpg:' how-to-be-happy.jpg \n",
      "\n"
     ]
    }
   ],
   "source": [
    "# Splitting the directory for program scalability\n",
    "import os\n",
    "\n",
    "head_tail = os.path.split(directory)\n",
    "print(\"Head of '% s:'\" % directory, head_tail[0])\n",
    "print(\"Tail of '% s:'\" % directory, head_tail[1], \"\\n\")"
   ]
  }
 ],
 "metadata": {
  "kernelspec": {
   "display_name": "Python [conda env:PythonData]",
   "language": "python",
   "name": "conda-env-PythonData-py"
  },
  "language_info": {
   "codemirror_mode": {
    "name": "ipython",
    "version": 3
   },
   "file_extension": ".py",
   "mimetype": "text/x-python",
   "name": "python",
   "nbconvert_exporter": "python",
   "pygments_lexer": "ipython3",
   "version": "3.6.13"
  }
 },
 "nbformat": 4,
 "nbformat_minor": 5
}
