{
 "cells": [
  {
   "cell_type": "markdown",
   "id": "6d434431",
   "metadata": {},
   "source": [
    "# Change image size\n",
    "\n",
    "This code is meant to resize an image.  \n",
    "\n",
    "Also includes how to convert to black and white, rotate images, and blur images."
   ]
  },
  {
   "cell_type": "code",
   "execution_count": 11,
   "id": "227995df",
   "metadata": {},
   "outputs": [],
   "source": [
    "from PIL import Image\n",
    "import os\n",
    "\n",
    "mydir = './Inputs'\n",
    "size_300 = (300,300)\n",
    "\n",
    "for f in os.listdir(mydir):\n",
    "    if f.endswith('.jpg'):\n",
    "#         print(f)\n",
    "        i = Image.open(f\"{mydir}/{f}\")\n",
    "        fn, fext = os.path.splitext(f)\n",
    "#         print(f\"{fn} and {fext}\")\n",
    "        i.thumbnail(size_300)\n",
    "#         i.save(f\"{mydir}/pngs/{fn}.png\")\n",
    "        i.save(f\"{mydir}/300/{fn}_300{fext}\")\n",
    "\n",
    "image1 = Image.open('./Inputs/happy.jpg')"
   ]
  },
  {
   "cell_type": "code",
   "execution_count": null,
   "id": "b1e6ebf9",
   "metadata": {},
   "outputs": [],
   "source": [
    "# Show image\n",
    "# image1.show()\n",
    "# image1 # alternate method for jupyter notebook to show directly in the notebook\n",
    "\n",
    "# Save image with different file name\n",
    "# image1.save('./Inputs/happy.png')"
   ]
  },
  {
   "cell_type": "code",
   "execution_count": 19,
   "id": "7ab8d309",
   "metadata": {},
   "outputs": [],
   "source": [
    "from PIL import Image, ImageFilter\n",
    "import os\n",
    "\n",
    "path = './Inputs/happy.jpg'\n",
    "head_tail = os.path.split(path)\n",
    "file_name = head_tail[1]\n",
    "path_name = head_tail[0]\n",
    "image_name, fext = os.path.splitext(file_name)\n",
    "\n",
    "image1 = Image.open(myfile)\n",
    "# image1.rotate(90).save(f'{image_name}_mod{fext}') # rotate image 90 degrees\n",
    "# image1.convert(mode='L').save(f'{image_name}_mod{fext}') # convert to black and white\n",
    "# image1.filter(ImageFilter.GaussianBlur()).save(f'{image_name}_mod{fext}') # blur image (requires ImageFilter import)\n",
    "image1.filter(ImageFilter.GaussianBlur(15)).save(f'{image_name}_mod{fext}') # default value is 2, change default value to 15 for more blur"
   ]
  }
 ],
 "metadata": {
  "kernelspec": {
   "display_name": "Python [conda env:PythonData]",
   "language": "python",
   "name": "conda-env-PythonData-py"
  },
  "language_info": {
   "codemirror_mode": {
    "name": "ipython",
    "version": 3
   },
   "file_extension": ".py",
   "mimetype": "text/x-python",
   "name": "python",
   "nbconvert_exporter": "python",
   "pygments_lexer": "ipython3",
   "version": "3.6.13"
  }
 },
 "nbformat": 4,
 "nbformat_minor": 5
}
