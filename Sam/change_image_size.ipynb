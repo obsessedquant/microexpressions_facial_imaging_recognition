{
 "cells": [
  {
   "cell_type": "markdown",
   "id": "6d434431",
   "metadata": {},
   "source": [
    "# Change image size\n",
    "\n",
    "This code is meant to resize an image."
   ]
  },
  {
   "cell_type": "code",
   "execution_count": null,
   "id": "227995df",
   "metadata": {},
   "outputs": [],
   "source": []
  }
 ],
 "metadata": {
  "kernelspec": {
   "display_name": "Python [conda env:PythonData]",
   "language": "python",
   "name": "conda-env-PythonData-py"
  },
  "language_info": {
   "codemirror_mode": {
    "name": "ipython",
    "version": 3
   },
   "file_extension": ".py",
   "mimetype": "text/x-python",
   "name": "python",
   "nbconvert_exporter": "python",
   "pygments_lexer": "ipython3",
   "version": "3.6.13"
  }
 },
 "nbformat": 4,
 "nbformat_minor": 5
}
