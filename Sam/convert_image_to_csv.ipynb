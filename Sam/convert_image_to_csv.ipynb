{
 "cells": [
  {
   "cell_type": "markdown",
   "id": "5773a5e6",
   "metadata": {},
   "source": [
    "# Convert Image to CSV\n",
    "\n",
    "This notebook is intended to convert images such as jpegs and pngs to csv format."
   ]
  },
  {
   "cell_type": "code",
   "execution_count": 4,
   "id": "3ee01b84",
   "metadata": {},
   "outputs": [
    {
     "name": "stdout",
     "output_type": "stream",
     "text": [
      "./Inputs\n",
      "filelist is: ['./Inputs\\\\how-to-be-happy (1).jpg', './Inputs\\\\how-to-be-happy.jpg']\n",
      "./Inputs\\how-to-be-happy (1).jpg\n",
      "[210 210 210 ... 217 217 217]\n",
      "./Inputs\\how-to-be-happy.jpg\n",
      "[151 153 150 ... 119 117 120]\n"
     ]
    }
   ],
   "source": [
    "from PIL import Image\n",
    "import numpy as np\n",
    "import sys\n",
    "import os\n",
    "import csv\n",
    "\n",
    "def createFileList(myDir, format='.jpg'):\n",
    "    fileList = []\n",
    "    print(myDir)\n",
    "    for root, dirs, files in os.walk(myDir, topdown=False):\n",
    "        for name in files:\n",
    "            if name.endswith(format):\n",
    "                fullName = os.path.join(root, name)\n",
    "                fileList.append(fullName)\n",
    "    print(f\"filelist is: {fileList}\")\n",
    "    return fileList\n",
    "\n",
    "# myFileList = createFileList('/home/paras/PycharmProjects/HelloWorld/cropped_face')\n",
    "myFileList = createFileList('./Inputs')\n",
    "\n",
    "for file in myFileList:\n",
    "    print(file)\n",
    "    img_file = Image.open(file)\n",
    "    width, height = img_file.size\n",
    "    format = img_file.format\n",
    "    mode = img_file.mode\n",
    "    img_grey = img_file.convert('L')\n",
    "    \n",
    "    value = np.asarray(img_grey.getdata(), dtype=np.int).reshape((img_grey.size[1],img_grey.size[0]))\n",
    "    value = value.flatten()\n",
    "    print(value)\n",
    "    with open(\"image_to_csv.csv\", 'w') as f:\n",
    "        writer = csv.writer(f)\n",
    "        writer.writerow(value)"
   ]
  },
  {
   "cell_type": "code",
   "execution_count": null,
   "id": "608b6146",
   "metadata": {},
   "outputs": [],
   "source": [
    "import pandas as pd\n",
    "\n",
    "df = pd.read_csv('image_to_csv.csv')\n",
    "df.head()"
   ]
  },
  {
   "cell_type": "code",
   "execution_count": null,
   "id": "4bbdfe60",
   "metadata": {},
   "outputs": [],
   "source": []
  }
 ],
 "metadata": {
  "kernelspec": {
   "display_name": "Python [conda env:PythonData]",
   "language": "python",
   "name": "conda-env-PythonData-py"
  },
  "language_info": {
   "codemirror_mode": {
    "name": "ipython",
    "version": 3
   },
   "file_extension": ".py",
   "mimetype": "text/x-python",
   "name": "python",
   "nbconvert_exporter": "python",
   "pygments_lexer": "ipython3",
   "version": "3.6.13"
  }
 },
 "nbformat": 4,
 "nbformat_minor": 5
}
