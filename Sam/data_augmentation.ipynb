{
 "cells": [
  {
   "cell_type": "markdown",
   "id": "13145250",
   "metadata": {},
   "source": [
    "# Data Augmentation"
   ]
  },
  {
   "cell_type": "code",
   "execution_count": 8,
   "id": "d2560062",
   "metadata": {},
   "outputs": [],
   "source": [
    "# !pip install scikit-image --user"
   ]
  },
  {
   "cell_type": "markdown",
   "id": "b3eabc82",
   "metadata": {},
   "source": [
    "#### Code to process 1 image at a time"
   ]
  },
  {
   "cell_type": "code",
   "execution_count": 7,
   "id": "18e604e6",
   "metadata": {},
   "outputs": [],
   "source": [
    "from keras.preprocessing.image import ImageDataGenerator\n",
    "from skimage import io\n",
    "\n",
    "# for Generative Adversarial Networks, fill_mode='reflect' works best\n",
    "datagen = ImageDataGenerator(\n",
    "    rotation_range=45,\n",
    "    width_shift_range=0.2,\n",
    "    height_shift_range=0.2,\n",
    "    shear_range=0.2,\n",
    "    zoom_range=0.2,\n",
    "    horizontal_flip=True,\n",
    "    fill_mode='constant')\n",
    "\n",
    "x = io.imread('./Resources/happy.png')\n",
    "\n",
    "x = x.reshape((1, ) + x.shape)\n",
    "\n",
    "i = 0\n",
    "for batch in datagen.flow(x, batch_size=16,\n",
    "                         save_to_dir='./Resources/Augmented',\n",
    "                         save_prefix='aug',\n",
    "                         save_format='png'):\n",
    "    i += 1\n",
    "    if i > 20:\n",
    "        break"
   ]
  },
  {
   "cell_type": "markdown",
   "id": "5c2d7a79",
   "metadata": {},
   "source": [
    "#### Code for augmenting multiple images in a directory"
   ]
  },
  {
   "cell_type": "code",
   "execution_count": 15,
   "id": "2325c248",
   "metadata": {},
   "outputs": [],
   "source": [
    "datagen = ImageDataGenerator(\n",
    "    rotation_range=45,\n",
    "    width_shift_range=0.2,\n",
    "    height_shift_range=0.2,\n",
    "    shear_range=0.2,\n",
    "    zoom_range=0.2,\n",
    "    horizontal_flip=True,\n",
    "    fill_mode='reflect')\n",
    "\n",
    "dataset = []\n",
    "\n",
    "import numpy as np\n",
    "import os\n",
    "from PIL import Image\n",
    "\n",
    "image_directory = './Resources/Multiple_Images/'\n",
    "SIZE = 128 # resizing the images so that they are all the same size\n",
    "dataset = []\n",
    "\n",
    "my_images = os.listdir(image_directory)\n",
    "for i, image_name in enumerate(my_images):\n",
    "    if (image_name.split('.')[1] == 'png'): # may need to change this to .jpg\n",
    "        image = io.imread(image_directory + image_name)\n",
    "        image = Image.fromarray(image, 'RGB')\n",
    "        image = image.resize((SIZE,SIZE))\n",
    "        dataset.append(np.array(image))\n",
    "        \n",
    "x = np.array(dataset)\n",
    "\n",
    "i = 0\n",
    "for batch in datagen.flow(x, batch_size=16,\n",
    "                         save_to_dir='./Resources/Augmented',\n",
    "                         save_prefix='aug',\n",
    "                         save_format='png'):\n",
    "    i += 1\n",
    "    if i > 20:\n",
    "        break"
   ]
  },
  {
   "cell_type": "markdown",
   "id": "d9c431e9",
   "metadata": {},
   "source": [
    "#### Multi-Class problem\n",
    "\n",
    "Different images are stored in different sub-folders to separate the classes."
   ]
  },
  {
   "cell_type": "code",
   "execution_count": 25,
   "id": "6b37d9f4",
   "metadata": {},
   "outputs": [
    {
     "name": "stdout",
     "output_type": "stream",
     "text": [
      "Found 2 images belonging to 2 classes.\n"
     ]
    }
   ],
   "source": [
    "from keras.preprocessing.image import ImageDataGenerator\n",
    "from skimage import io\n",
    "\n",
    "# for Generative Adversarial Networks, fill_mode='reflect' works best\n",
    "datagen = ImageDataGenerator(\n",
    "    rotation_range=45,\n",
    "    width_shift_range=0.2,\n",
    "    height_shift_range=0.2,\n",
    "    shear_range=0.2,\n",
    "    zoom_range=0.2,\n",
    "    horizontal_flip=True,\n",
    "    fill_mode='reflect')\n",
    "\n",
    "i = 0\n",
    "for batch in datagen.flow_from_directory(directory='./Resources/Multi-Class',\n",
    "                                         batch_size=16,\n",
    "                                         target_size=(256,256),\n",
    "                                         color_mode='rgb',\n",
    "                                         save_to_dir='./Resources/Augmented',\n",
    "                                         save_prefix='aug',\n",
    "                                         save_format='png'):\n",
    "    i += 1\n",
    "    if i > 31:\n",
    "        break"
   ]
  },
  {
   "cell_type": "code",
   "execution_count": null,
   "id": "de6e5651",
   "metadata": {},
   "outputs": [],
   "source": []
  }
 ],
 "metadata": {
  "kernelspec": {
   "display_name": "Python [conda env:PythonAdv]",
   "language": "python",
   "name": "conda-env-PythonAdv-py"
  },
  "language_info": {
   "codemirror_mode": {
    "name": "ipython",
    "version": 3
   },
   "file_extension": ".py",
   "mimetype": "text/x-python",
   "name": "python",
   "nbconvert_exporter": "python",
   "pygments_lexer": "ipython3",
   "version": "3.6.13"
  }
 },
 "nbformat": 4,
 "nbformat_minor": 5
}
